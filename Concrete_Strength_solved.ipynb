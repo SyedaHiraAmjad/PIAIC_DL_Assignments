{
  "nbformat": 4,
  "nbformat_minor": 0,
  "metadata": {
    "kernelspec": {
      "display_name": "Python 3",
      "language": "python",
      "name": "python3"
    },
    "language_info": {
      "codemirror_mode": {
        "name": "ipython",
        "version": 3
      },
      "file_extension": ".py",
      "mimetype": "text/x-python",
      "name": "python",
      "nbconvert_exporter": "python",
      "pygments_lexer": "ipython3",
      "version": "3.7.3"
    },
    "colab": {
      "name": "Concrete Strength Assignment.ipynb",
      "provenance": []
    }
  },
  "cells": [
    {
      "cell_type": "markdown",
      "metadata": {
        "id": "kNy1-F4IoF3v"
      },
      "source": [
        "# Assignment: Compresive Strength Concrete Problem\n",
        "\n",
        "\n",
        "### Abstract: \n",
        "\n",
        "Concrete is the most important material in civil engineering. The concrete compressive strength (concrete strength to bear the load) is a highly nonlinear function of age and ingredients.  <br><br>\n",
        "\n",
        "<table border=\"1\"  cellpadding=\"6\" bordercolor=\"red\">\n",
        "\t<tbody>\n",
        "        <tr>\n",
        "\t\t<td bgcolor=\"#DDEEFF\"><p class=\"normal\"><b>Data Set Characteristics:&nbsp;&nbsp;</b></p></td>\n",
        "\t\t<td><p class=\"normal\">Multivariate</p></td>\n",
        "\t\t<td bgcolor=\"#DDEEFF\"><p class=\"normal\"><b>Number of Instances:</b></p></td>\n",
        "\t\t<td><p class=\"normal\">1030</p></td>\n",
        "\t\t<td bgcolor=\"#DDEEFF\"><p class=\"normal\"><b>Area:</b></p></td>\n",
        "\t\t<td><p class=\"normal\">Physical</p></td>\n",
        "        </tr>\n",
        "     </tbody>\n",
        "    </table>\n",
        "<table border=\"1\" cellpadding=\"6\">\n",
        "    <tbody>\n",
        "        <tr>\n",
        "            <td bgcolor=\"#DDEEFF\"><p class=\"normal\"><b>Attribute Characteristics:</b></p></td>\n",
        "            <td><p class=\"normal\">Real</p></td>\n",
        "            <td bgcolor=\"#DDEEFF\"><p class=\"normal\"><b>Number of Attributes:</b></p></td>\n",
        "            <td><p class=\"normal\">9</p></td>\n",
        "            <td bgcolor=\"#DDEEFF\"><p class=\"normal\"><b>Date Donated</b></p></td>\n",
        "            <td><p class=\"normal\">2007-08-03</p></td>\n",
        "        </tr>\n",
        "     </tbody>\n",
        "    </table>\n",
        "<table border=\"1\" cellpadding=\"6\">\t\n",
        "    <tbody>\n",
        "    <tr>\n",
        "\t\t<td bgcolor=\"#DDEEFF\"><p class=\"normal\"><b>Associated Tasks:</b></p></td>\n",
        "\t\t<td><p class=\"normal\">Regression</p></td>\n",
        "\t\t<td bgcolor=\"#DDEEFF\"><p class=\"normal\"><b>Missing Values?</b></p></td>\n",
        "\t\t<td><p class=\"normal\">N/A</p></td>\n",
        "\t\t<td bgcolor=\"#DDEEFF\"><p class=\"normal\"><b>Number of Web Hits:</b></p></td>\n",
        "\t\t<td><p class=\"normal\">231464</p></td>\n",
        "\t</tr>\n",
        "    </tbody>\n",
        "    </table>"
      ]
    },
    {
      "cell_type": "markdown",
      "metadata": {
        "id": "hkaC7RZNoF4k"
      },
      "source": [
        "###  Description:\n",
        "| Features Name | Data Type | Measurement | Description |\n",
        "| -- | -- | -- | -- |\n",
        "Cement (component 1) | quantitative | kg in a m3 mixture | Input Variable\n",
        "Blast Furnace Slag (component 2) | quantitative | kg in a m3 mixture | Input Variable\n",
        "Fly Ash (component 3) | quantitative | kg in a m3 mixture | Input Variable\n",
        "Water (component 4) | quantitative | kg in a m3 mixture | Input Variable\n",
        "Superplasticizer (component 5) | quantitative | kg in a m3 mixture | Input Variable\n",
        "Coarse Aggregate (component 6) | quantitative | kg in a m3 mixture | Input Variable\n",
        "Fine Aggregate (component 7) | quantitative | kg in a m3 mixture | Input Variable\n",
        "Age | quantitative | Day (1~365) | Input Variable\n",
        "Concrete compressive strength | quantitative | MPa | Output Variable\n",
        "\n",
        "### WORKFLOW :\n",
        "- Load Data\n",
        "- Check Missing Values ( If Exist ; Fill each record with mean of its feature )\n",
        "- Standardized the Input Variables. **Hint**: Centeralized the data\n",
        "- Split into 50% Training(Samples,Labels) , 30% Test(Samples,Labels) and 20% Validation Data(Samples,Labels).\n",
        "- Model : input Layer (No. of features ), 3 hidden layers including 10,8,6 unit & Output Layer with activation function relu/tanh (check by experiment).\n",
        "- Compilation Step (Note : Its a Regression problem , select loss , metrics according to it)\n",
        "- Train the Model with Epochs (100) and validate it\n",
        "- If the model gets overfit tune your model by changing the units , No. of layers , activation function , epochs , add dropout layer or add Regularizer according to the need .\n",
        "- Evaluation Step\n",
        "- Prediction\n"
      ]
    },
    {
      "cell_type": "markdown",
      "metadata": {
        "id": "MBjtkydroOHz"
      },
      "source": [
        "\n",
        "#Importing Libraries"
      ]
    },
    {
      "cell_type": "code",
      "metadata": {
        "id": "RdlZwxr2oTDi"
      },
      "source": [
        "import pandas as pd\n",
        "import numpy as np\n",
        "import matplotlib.pyplot as plt"
      ],
      "execution_count": 1,
      "outputs": []
    },
    {
      "cell_type": "markdown",
      "metadata": {
        "id": "VORNDIRhoF4r"
      },
      "source": [
        "# Load Data:\n",
        "[Click Here to Download DataSet](https://github.com/ramsha275/ML_Datasets/blob/main/compresive_strength_concrete.csv)"
      ]
    },
    {
      "cell_type": "code",
      "metadata": {
        "id": "Sx5xvzIGoNJp"
      },
      "source": [
        "url = 'https://raw.githubusercontent.com/SyedaHiraAmjad/Deep-Learning-Tech/main/compresive_strength_concrete.csv'\n",
        "data = pd.read_csv(url)\n",
        "# Dataset is now stored in a Pandas Dataframe"
      ],
      "execution_count": 2,
      "outputs": []
    },
    {
      "cell_type": "code",
      "metadata": {
        "colab": {
          "base_uri": "https://localhost:8080/"
        },
        "id": "cVVUCiYnoF4s",
        "outputId": "75656435-023a-44d8-ceef-d1acf6d17616"
      },
      "source": [
        "data.shape"
      ],
      "execution_count": 3,
      "outputs": [
        {
          "output_type": "execute_result",
          "data": {
            "text/plain": [
              "(1030, 9)"
            ]
          },
          "metadata": {
            "tags": []
          },
          "execution_count": 3
        }
      ]
    },
    {
      "cell_type": "code",
      "metadata": {
        "colab": {
          "base_uri": "https://localhost:8080/",
          "height": 255
        },
        "id": "Fq12tfm-opNo",
        "outputId": "5555dedc-2e9d-4bed-a303-496819c827a7"
      },
      "source": [
        "data.head()"
      ],
      "execution_count": 4,
      "outputs": [
        {
          "output_type": "execute_result",
          "data": {
            "text/html": [
              "<div>\n",
              "<style scoped>\n",
              "    .dataframe tbody tr th:only-of-type {\n",
              "        vertical-align: middle;\n",
              "    }\n",
              "\n",
              "    .dataframe tbody tr th {\n",
              "        vertical-align: top;\n",
              "    }\n",
              "\n",
              "    .dataframe thead th {\n",
              "        text-align: right;\n",
              "    }\n",
              "</style>\n",
              "<table border=\"1\" class=\"dataframe\">\n",
              "  <thead>\n",
              "    <tr style=\"text-align: right;\">\n",
              "      <th></th>\n",
              "      <th>Cement (component 1)(kg in a m^3 mixture)</th>\n",
              "      <th>Blast Furnace Slag (component 2)(kg in a m^3 mixture)</th>\n",
              "      <th>Fly Ash (component 3)(kg in a m^3 mixture)</th>\n",
              "      <th>Water  (component 4)(kg in a m^3 mixture)</th>\n",
              "      <th>Superplasticizer (component 5)(kg in a m^3 mixture)</th>\n",
              "      <th>Coarse Aggregate  (component 6)(kg in a m^3 mixture)</th>\n",
              "      <th>Fine Aggregate (component 7)(kg in a m^3 mixture)</th>\n",
              "      <th>Age (day)</th>\n",
              "      <th>Concrete compressive strength(MPa, megapascals)</th>\n",
              "    </tr>\n",
              "  </thead>\n",
              "  <tbody>\n",
              "    <tr>\n",
              "      <th>0</th>\n",
              "      <td>540.0</td>\n",
              "      <td>0.0</td>\n",
              "      <td>0.0</td>\n",
              "      <td>162.0</td>\n",
              "      <td>2.5</td>\n",
              "      <td>1040.0</td>\n",
              "      <td>676.0</td>\n",
              "      <td>28</td>\n",
              "      <td>79.99</td>\n",
              "    </tr>\n",
              "    <tr>\n",
              "      <th>1</th>\n",
              "      <td>540.0</td>\n",
              "      <td>0.0</td>\n",
              "      <td>0.0</td>\n",
              "      <td>162.0</td>\n",
              "      <td>2.5</td>\n",
              "      <td>1055.0</td>\n",
              "      <td>676.0</td>\n",
              "      <td>28</td>\n",
              "      <td>61.89</td>\n",
              "    </tr>\n",
              "    <tr>\n",
              "      <th>2</th>\n",
              "      <td>332.5</td>\n",
              "      <td>142.5</td>\n",
              "      <td>0.0</td>\n",
              "      <td>228.0</td>\n",
              "      <td>0.0</td>\n",
              "      <td>932.0</td>\n",
              "      <td>594.0</td>\n",
              "      <td>270</td>\n",
              "      <td>40.27</td>\n",
              "    </tr>\n",
              "    <tr>\n",
              "      <th>3</th>\n",
              "      <td>332.5</td>\n",
              "      <td>142.5</td>\n",
              "      <td>0.0</td>\n",
              "      <td>228.0</td>\n",
              "      <td>0.0</td>\n",
              "      <td>932.0</td>\n",
              "      <td>594.0</td>\n",
              "      <td>365</td>\n",
              "      <td>41.05</td>\n",
              "    </tr>\n",
              "    <tr>\n",
              "      <th>4</th>\n",
              "      <td>198.6</td>\n",
              "      <td>132.4</td>\n",
              "      <td>0.0</td>\n",
              "      <td>192.0</td>\n",
              "      <td>0.0</td>\n",
              "      <td>978.4</td>\n",
              "      <td>825.5</td>\n",
              "      <td>360</td>\n",
              "      <td>44.30</td>\n",
              "    </tr>\n",
              "  </tbody>\n",
              "</table>\n",
              "</div>"
            ],
            "text/plain": [
              "   Cement (component 1)(kg in a m^3 mixture)  ...  Concrete compressive strength(MPa, megapascals) \n",
              "0                                      540.0  ...                                             79.99\n",
              "1                                      540.0  ...                                             61.89\n",
              "2                                      332.5  ...                                             40.27\n",
              "3                                      332.5  ...                                             41.05\n",
              "4                                      198.6  ...                                             44.30\n",
              "\n",
              "[5 rows x 9 columns]"
            ]
          },
          "metadata": {
            "tags": []
          },
          "execution_count": 4
        }
      ]
    },
    {
      "cell_type": "code",
      "metadata": {
        "colab": {
          "base_uri": "https://localhost:8080/"
        },
        "id": "SRTuRGQDoqjl",
        "outputId": "aa1875dc-a2e0-48e6-c485-37bae2dab28b"
      },
      "source": [
        "data.isnull().sum()"
      ],
      "execution_count": 5,
      "outputs": [
        {
          "output_type": "execute_result",
          "data": {
            "text/plain": [
              "Cement (component 1)(kg in a m^3 mixture)                0\n",
              "Blast Furnace Slag (component 2)(kg in a m^3 mixture)    0\n",
              "Fly Ash (component 3)(kg in a m^3 mixture)               0\n",
              "Water  (component 4)(kg in a m^3 mixture)                0\n",
              "Superplasticizer (component 5)(kg in a m^3 mixture)      0\n",
              "Coarse Aggregate  (component 6)(kg in a m^3 mixture)     0\n",
              "Fine Aggregate (component 7)(kg in a m^3 mixture)        0\n",
              "Age (day)                                                0\n",
              "Concrete compressive strength(MPa, megapascals)          0\n",
              "dtype: int64"
            ]
          },
          "metadata": {
            "tags": []
          },
          "execution_count": 5
        }
      ]
    },
    {
      "cell_type": "code",
      "metadata": {
        "colab": {
          "base_uri": "https://localhost:8080/"
        },
        "id": "hRM3iYqHouA0",
        "outputId": "1a73c5d3-0f08-4348-a102-5af5d3963643"
      },
      "source": [
        "np.where(data.applymap(lambda x: x == ''))"
      ],
      "execution_count": 6,
      "outputs": [
        {
          "output_type": "execute_result",
          "data": {
            "text/plain": [
              "(array([], dtype=int64), array([], dtype=int64))"
            ]
          },
          "metadata": {
            "tags": []
          },
          "execution_count": 6
        }
      ]
    },
    {
      "cell_type": "code",
      "metadata": {
        "id": "3C7CEKlEowdC"
      },
      "source": [
        "X_train = data.sample(frac = 0.7, random_state = 123)\n",
        "X_test = data.drop(X_train.index)"
      ],
      "execution_count": 8,
      "outputs": []
    },
    {
      "cell_type": "code",
      "metadata": {
        "colab": {
          "base_uri": "https://localhost:8080/",
          "height": 255
        },
        "id": "_qdE8nXEozf9",
        "outputId": "d6ec17c1-4091-43bd-c63a-91cd317348f4"
      },
      "source": [
        "X_train.head()"
      ],
      "execution_count": 9,
      "outputs": [
        {
          "output_type": "execute_result",
          "data": {
            "text/html": [
              "<div>\n",
              "<style scoped>\n",
              "    .dataframe tbody tr th:only-of-type {\n",
              "        vertical-align: middle;\n",
              "    }\n",
              "\n",
              "    .dataframe tbody tr th {\n",
              "        vertical-align: top;\n",
              "    }\n",
              "\n",
              "    .dataframe thead th {\n",
              "        text-align: right;\n",
              "    }\n",
              "</style>\n",
              "<table border=\"1\" class=\"dataframe\">\n",
              "  <thead>\n",
              "    <tr style=\"text-align: right;\">\n",
              "      <th></th>\n",
              "      <th>Cement (component 1)(kg in a m^3 mixture)</th>\n",
              "      <th>Blast Furnace Slag (component 2)(kg in a m^3 mixture)</th>\n",
              "      <th>Fly Ash (component 3)(kg in a m^3 mixture)</th>\n",
              "      <th>Water  (component 4)(kg in a m^3 mixture)</th>\n",
              "      <th>Superplasticizer (component 5)(kg in a m^3 mixture)</th>\n",
              "      <th>Coarse Aggregate  (component 6)(kg in a m^3 mixture)</th>\n",
              "      <th>Fine Aggregate (component 7)(kg in a m^3 mixture)</th>\n",
              "      <th>Age (day)</th>\n",
              "      <th>Concrete compressive strength(MPa, megapascals)</th>\n",
              "    </tr>\n",
              "  </thead>\n",
              "  <tbody>\n",
              "    <tr>\n",
              "      <th>134</th>\n",
              "      <td>362.6</td>\n",
              "      <td>189.0</td>\n",
              "      <td>0.0</td>\n",
              "      <td>164.9</td>\n",
              "      <td>11.6</td>\n",
              "      <td>944.7</td>\n",
              "      <td>755.8</td>\n",
              "      <td>28</td>\n",
              "      <td>71.30</td>\n",
              "    </tr>\n",
              "    <tr>\n",
              "      <th>13</th>\n",
              "      <td>190.0</td>\n",
              "      <td>190.0</td>\n",
              "      <td>0.0</td>\n",
              "      <td>228.0</td>\n",
              "      <td>0.0</td>\n",
              "      <td>932.0</td>\n",
              "      <td>670.0</td>\n",
              "      <td>90</td>\n",
              "      <td>42.33</td>\n",
              "    </tr>\n",
              "    <tr>\n",
              "      <th>996</th>\n",
              "      <td>152.6</td>\n",
              "      <td>238.7</td>\n",
              "      <td>0.0</td>\n",
              "      <td>200.0</td>\n",
              "      <td>6.3</td>\n",
              "      <td>1001.8</td>\n",
              "      <td>683.9</td>\n",
              "      <td>28</td>\n",
              "      <td>26.86</td>\n",
              "    </tr>\n",
              "    <tr>\n",
              "      <th>770</th>\n",
              "      <td>349.0</td>\n",
              "      <td>0.0</td>\n",
              "      <td>0.0</td>\n",
              "      <td>192.0</td>\n",
              "      <td>0.0</td>\n",
              "      <td>1047.0</td>\n",
              "      <td>806.0</td>\n",
              "      <td>3</td>\n",
              "      <td>14.99</td>\n",
              "    </tr>\n",
              "    <tr>\n",
              "      <th>937</th>\n",
              "      <td>313.3</td>\n",
              "      <td>0.0</td>\n",
              "      <td>113.0</td>\n",
              "      <td>178.5</td>\n",
              "      <td>8.0</td>\n",
              "      <td>1001.9</td>\n",
              "      <td>688.7</td>\n",
              "      <td>28</td>\n",
              "      <td>36.80</td>\n",
              "    </tr>\n",
              "  </tbody>\n",
              "</table>\n",
              "</div>"
            ],
            "text/plain": [
              "     Cement (component 1)(kg in a m^3 mixture)  ...  Concrete compressive strength(MPa, megapascals) \n",
              "134                                      362.6  ...                                             71.30\n",
              "13                                       190.0  ...                                             42.33\n",
              "996                                      152.6  ...                                             26.86\n",
              "770                                      349.0  ...                                             14.99\n",
              "937                                      313.3  ...                                             36.80\n",
              "\n",
              "[5 rows x 9 columns]"
            ]
          },
          "metadata": {
            "tags": []
          },
          "execution_count": 9
        }
      ]
    },
    {
      "cell_type": "markdown",
      "metadata": {
        "id": "xQldNBUdo9Im"
      },
      "source": [
        "#Assigning features and target variable"
      ]
    },
    {
      "cell_type": "code",
      "metadata": {
        "id": "_17sE06to27d"
      },
      "source": [
        "Y_train = X_train.iloc[:,-1]\n",
        "X_train = X_train.iloc[:,0:-1]\n",
        "Y_test = X_test.iloc[:,-1]\n",
        "X_test = X_test.iloc[:,0:-1]"
      ],
      "execution_count": 14,
      "outputs": []
    },
    {
      "cell_type": "code",
      "metadata": {
        "id": "7MwoS0y5pFIF"
      },
      "source": [
        "X_mean = X_train.mean()\n",
        "X_train -= X_mean\n",
        "X_std = X_train.std()\n",
        "X_train /= X_std\n",
        "X_test -= X_mean\n",
        "X_test /= X_std"
      ],
      "execution_count": 15,
      "outputs": []
    },
    {
      "cell_type": "code",
      "metadata": {
        "id": "8vI8rZbMpGaW"
      },
      "source": [
        "Y_mean = Y_train.mean()\n",
        "Y_train -= Y_mean\n",
        "Y_std = Y_train.std()\n",
        "Y_train /= Y_std\n",
        "Y_test -= Y_mean\n",
        "Y_test /= Y_std"
      ],
      "execution_count": 16,
      "outputs": []
    },
    {
      "cell_type": "code",
      "metadata": {
        "colab": {
          "base_uri": "https://localhost:8080/"
        },
        "id": "BNe0SEMjpKXk",
        "outputId": "614c65f1-bfed-4a2e-963e-7a7892f0b50f"
      },
      "source": [
        "X_train.dtypes"
      ],
      "execution_count": 17,
      "outputs": [
        {
          "output_type": "execute_result",
          "data": {
            "text/plain": [
              "Cement (component 1)(kg in a m^3 mixture)                float64\n",
              "Blast Furnace Slag (component 2)(kg in a m^3 mixture)    float64\n",
              "Fly Ash (component 3)(kg in a m^3 mixture)               float64\n",
              "Water  (component 4)(kg in a m^3 mixture)                float64\n",
              "Superplasticizer (component 5)(kg in a m^3 mixture)      float64\n",
              "Coarse Aggregate  (component 6)(kg in a m^3 mixture)     float64\n",
              "Fine Aggregate (component 7)(kg in a m^3 mixture)        float64\n",
              "dtype: object"
            ]
          },
          "metadata": {
            "tags": []
          },
          "execution_count": 17
        }
      ]
    },
    {
      "cell_type": "code",
      "metadata": {
        "id": "SJ33IWOvpidj"
      },
      "source": [
        "X_train = X_train.to_numpy()\n",
        "Y_train = Y_train.to_numpy()\n",
        "X_test = X_test.to_numpy()\n",
        "Y_test = Y_test.to_numpy()"
      ],
      "execution_count": 18,
      "outputs": []
    },
    {
      "cell_type": "markdown",
      "metadata": {
        "id": "W5UjIQ80pm5q"
      },
      "source": [
        "#Training and testing data splittion\n",
        "## Model selection"
      ]
    },
    {
      "cell_type": "code",
      "metadata": {
        "id": "2D56YYvjpsVm"
      },
      "source": [
        "from tensorflow.keras import layers as L\n",
        "from tensorflow.keras import models as M"
      ],
      "execution_count": 19,
      "outputs": []
    },
    {
      "cell_type": "code",
      "metadata": {
        "id": "1KV78T9-p3En"
      },
      "source": [
        "network = M.Sequential()\n",
        "network.add(L.Dense(128,activation=\"relu\",input_shape=(X_train.shape[1],)))"
      ],
      "execution_count": 20,
      "outputs": []
    },
    {
      "cell_type": "code",
      "metadata": {
        "id": "Jq4LwrfMp-R2"
      },
      "source": [
        "network.add(L.Dense(64,activation=\"relu\"))"
      ],
      "execution_count": 21,
      "outputs": []
    },
    {
      "cell_type": "code",
      "metadata": {
        "id": "OZ7Hl2Bop_mQ"
      },
      "source": [
        "network.add(L.Dense(32,activation=\"relu\"))"
      ],
      "execution_count": 22,
      "outputs": []
    },
    {
      "cell_type": "code",
      "metadata": {
        "id": "2NBcjUOAqCOM"
      },
      "source": [
        "network.add(L.Dense(1))"
      ],
      "execution_count": 23,
      "outputs": []
    },
    {
      "cell_type": "code",
      "metadata": {
        "id": "m15g7ZQwqE1_"
      },
      "source": [
        "network.compile(optimizer=\"rmsprop\",loss=[\"mse\"],metrics=[\"mae\"])"
      ],
      "execution_count": 24,
      "outputs": []
    },
    {
      "cell_type": "code",
      "metadata": {
        "colab": {
          "base_uri": "https://localhost:8080/"
        },
        "id": "sUyKBFIzqHsO",
        "outputId": "350ce527-045a-45ff-8df7-0aff8874a4d9"
      },
      "source": [
        "history = network.fit(X_train,Y_train,epochs=200,validation_split=0.3, batch_size = 16)"
      ],
      "execution_count": 25,
      "outputs": [
        {
          "output_type": "stream",
          "text": [
            "Epoch 1/200\n",
            "32/32 [==============================] - 1s 15ms/step - loss: 1.1051 - mae: 0.6256 - val_loss: 0.9123 - val_mae: 0.6286\n",
            "Epoch 2/200\n",
            "32/32 [==============================] - 0s 3ms/step - loss: 0.6909 - mae: 0.5375 - val_loss: 0.8195 - val_mae: 0.5891\n",
            "Epoch 3/200\n",
            "32/32 [==============================] - 0s 3ms/step - loss: 0.9472 - mae: 0.5782 - val_loss: 0.7556 - val_mae: 0.6013\n",
            "Epoch 4/200\n",
            "32/32 [==============================] - 0s 3ms/step - loss: 1.0064 - mae: 0.6281 - val_loss: 0.7952 - val_mae: 0.5458\n",
            "Epoch 5/200\n",
            "32/32 [==============================] - 0s 3ms/step - loss: 0.7365 - mae: 0.5247 - val_loss: 0.7303 - val_mae: 0.5931\n",
            "Epoch 6/200\n",
            "32/32 [==============================] - 0s 3ms/step - loss: 0.8986 - mae: 0.6021 - val_loss: 0.7571 - val_mae: 0.5689\n",
            "Epoch 7/200\n",
            "32/32 [==============================] - 0s 3ms/step - loss: 0.6038 - mae: 0.4823 - val_loss: 0.8701 - val_mae: 0.5776\n",
            "Epoch 8/200\n",
            "32/32 [==============================] - 0s 3ms/step - loss: 0.7804 - mae: 0.5389 - val_loss: 0.7974 - val_mae: 0.5514\n",
            "Epoch 9/200\n",
            "32/32 [==============================] - 0s 3ms/step - loss: 0.7452 - mae: 0.5000 - val_loss: 0.8369 - val_mae: 0.5788\n",
            "Epoch 10/200\n",
            "32/32 [==============================] - 0s 3ms/step - loss: 0.6430 - mae: 0.5114 - val_loss: 0.7792 - val_mae: 0.5694\n",
            "Epoch 11/200\n",
            "32/32 [==============================] - 0s 3ms/step - loss: 0.9491 - mae: 0.5828 - val_loss: 0.8201 - val_mae: 0.5596\n",
            "Epoch 12/200\n",
            "32/32 [==============================] - 0s 3ms/step - loss: 0.6018 - mae: 0.4665 - val_loss: 0.8220 - val_mae: 0.5757\n",
            "Epoch 13/200\n",
            "32/32 [==============================] - 0s 3ms/step - loss: 0.7846 - mae: 0.5401 - val_loss: 0.8763 - val_mae: 0.5767\n",
            "Epoch 14/200\n",
            "32/32 [==============================] - 0s 3ms/step - loss: 0.7521 - mae: 0.5424 - val_loss: 0.8791 - val_mae: 0.5854\n",
            "Epoch 15/200\n",
            "32/32 [==============================] - 0s 3ms/step - loss: 0.7482 - mae: 0.5040 - val_loss: 0.8042 - val_mae: 0.5801\n",
            "Epoch 16/200\n",
            "32/32 [==============================] - 0s 3ms/step - loss: 0.6270 - mae: 0.4828 - val_loss: 0.7307 - val_mae: 0.5739\n",
            "Epoch 17/200\n",
            "32/32 [==============================] - 0s 3ms/step - loss: 0.6297 - mae: 0.4766 - val_loss: 0.7629 - val_mae: 0.5651\n",
            "Epoch 18/200\n",
            "32/32 [==============================] - 0s 3ms/step - loss: 0.8624 - mae: 0.5551 - val_loss: 0.8549 - val_mae: 0.5723\n",
            "Epoch 19/200\n",
            "32/32 [==============================] - 0s 3ms/step - loss: 0.7000 - mae: 0.5070 - val_loss: 0.8473 - val_mae: 0.5916\n",
            "Epoch 20/200\n",
            "32/32 [==============================] - 0s 3ms/step - loss: 0.6676 - mae: 0.5058 - val_loss: 0.7359 - val_mae: 0.5531\n",
            "Epoch 21/200\n",
            "32/32 [==============================] - 0s 3ms/step - loss: 0.8386 - mae: 0.5646 - val_loss: 0.8940 - val_mae: 0.5896\n",
            "Epoch 22/200\n",
            "32/32 [==============================] - 0s 3ms/step - loss: 0.7895 - mae: 0.5202 - val_loss: 0.8930 - val_mae: 0.6020\n",
            "Epoch 23/200\n",
            "32/32 [==============================] - 0s 3ms/step - loss: 0.8605 - mae: 0.5625 - val_loss: 0.8531 - val_mae: 0.5682\n",
            "Epoch 24/200\n",
            "32/32 [==============================] - 0s 3ms/step - loss: 0.7525 - mae: 0.5076 - val_loss: 0.8541 - val_mae: 0.5767\n",
            "Epoch 25/200\n",
            "32/32 [==============================] - 0s 3ms/step - loss: 0.7642 - mae: 0.5258 - val_loss: 0.8394 - val_mae: 0.5824\n",
            "Epoch 26/200\n",
            "32/32 [==============================] - 0s 3ms/step - loss: 0.7462 - mae: 0.5321 - val_loss: 0.9404 - val_mae: 0.5947\n",
            "Epoch 27/200\n",
            "32/32 [==============================] - 0s 3ms/step - loss: 0.8042 - mae: 0.5282 - val_loss: 0.8651 - val_mae: 0.5734\n",
            "Epoch 28/200\n",
            "32/32 [==============================] - 0s 4ms/step - loss: 0.6721 - mae: 0.4818 - val_loss: 0.8019 - val_mae: 0.5888\n",
            "Epoch 29/200\n",
            "32/32 [==============================] - 0s 3ms/step - loss: 0.6551 - mae: 0.4880 - val_loss: 0.7886 - val_mae: 0.5906\n",
            "Epoch 30/200\n",
            "32/32 [==============================] - 0s 3ms/step - loss: 0.7667 - mae: 0.5538 - val_loss: 0.8058 - val_mae: 0.5641\n",
            "Epoch 31/200\n",
            "32/32 [==============================] - 0s 3ms/step - loss: 0.6916 - mae: 0.4874 - val_loss: 0.8181 - val_mae: 0.5877\n",
            "Epoch 32/200\n",
            "32/32 [==============================] - 0s 3ms/step - loss: 0.6541 - mae: 0.4943 - val_loss: 0.8499 - val_mae: 0.5895\n",
            "Epoch 33/200\n",
            "32/32 [==============================] - 0s 3ms/step - loss: 0.6563 - mae: 0.5002 - val_loss: 0.8944 - val_mae: 0.5849\n",
            "Epoch 34/200\n",
            "32/32 [==============================] - 0s 3ms/step - loss: 0.7226 - mae: 0.4802 - val_loss: 0.8462 - val_mae: 0.5579\n",
            "Epoch 35/200\n",
            "32/32 [==============================] - 0s 3ms/step - loss: 1.0263 - mae: 0.5828 - val_loss: 0.8560 - val_mae: 0.5732\n",
            "Epoch 36/200\n",
            "32/32 [==============================] - 0s 3ms/step - loss: 0.5950 - mae: 0.4950 - val_loss: 0.8915 - val_mae: 0.6207\n",
            "Epoch 37/200\n",
            "32/32 [==============================] - 0s 3ms/step - loss: 0.5790 - mae: 0.4772 - val_loss: 0.8969 - val_mae: 0.5879\n",
            "Epoch 38/200\n",
            "32/32 [==============================] - 0s 3ms/step - loss: 0.8060 - mae: 0.5529 - val_loss: 0.8682 - val_mae: 0.5749\n",
            "Epoch 39/200\n",
            "32/32 [==============================] - 0s 3ms/step - loss: 0.5674 - mae: 0.4623 - val_loss: 0.8757 - val_mae: 0.5972\n",
            "Epoch 40/200\n",
            "32/32 [==============================] - 0s 4ms/step - loss: 0.5448 - mae: 0.4671 - val_loss: 0.8734 - val_mae: 0.5957\n",
            "Epoch 41/200\n",
            "32/32 [==============================] - 0s 3ms/step - loss: 0.7584 - mae: 0.5187 - val_loss: 0.9538 - val_mae: 0.5990\n",
            "Epoch 42/200\n",
            "32/32 [==============================] - 0s 5ms/step - loss: 0.6748 - mae: 0.4932 - val_loss: 0.8497 - val_mae: 0.5713\n",
            "Epoch 43/200\n",
            "32/32 [==============================] - 0s 3ms/step - loss: 0.6552 - mae: 0.4772 - val_loss: 0.8773 - val_mae: 0.6068\n",
            "Epoch 44/200\n",
            "32/32 [==============================] - 0s 3ms/step - loss: 0.7349 - mae: 0.5278 - val_loss: 0.8696 - val_mae: 0.5884\n",
            "Epoch 45/200\n",
            "32/32 [==============================] - 0s 3ms/step - loss: 0.6516 - mae: 0.5031 - val_loss: 0.9141 - val_mae: 0.5908\n",
            "Epoch 46/200\n",
            "32/32 [==============================] - 0s 4ms/step - loss: 0.6743 - mae: 0.4999 - val_loss: 0.8511 - val_mae: 0.5755\n",
            "Epoch 47/200\n",
            "32/32 [==============================] - 0s 3ms/step - loss: 0.8389 - mae: 0.5165 - val_loss: 0.8876 - val_mae: 0.5848\n",
            "Epoch 48/200\n",
            "32/32 [==============================] - 0s 3ms/step - loss: 0.6162 - mae: 0.4852 - val_loss: 0.9175 - val_mae: 0.5938\n",
            "Epoch 49/200\n",
            "32/32 [==============================] - 0s 3ms/step - loss: 0.8717 - mae: 0.5316 - val_loss: 0.8337 - val_mae: 0.5808\n",
            "Epoch 50/200\n",
            "32/32 [==============================] - 0s 3ms/step - loss: 0.7380 - mae: 0.5052 - val_loss: 0.8775 - val_mae: 0.5851\n",
            "Epoch 51/200\n",
            "32/32 [==============================] - 0s 4ms/step - loss: 0.7228 - mae: 0.5143 - val_loss: 0.8558 - val_mae: 0.5833\n",
            "Epoch 52/200\n",
            "32/32 [==============================] - 0s 3ms/step - loss: 0.5977 - mae: 0.4900 - val_loss: 0.9508 - val_mae: 0.6250\n",
            "Epoch 53/200\n",
            "32/32 [==============================] - 0s 3ms/step - loss: 0.5821 - mae: 0.4774 - val_loss: 0.8252 - val_mae: 0.5954\n",
            "Epoch 54/200\n",
            "32/32 [==============================] - 0s 3ms/step - loss: 0.7113 - mae: 0.5108 - val_loss: 0.8321 - val_mae: 0.5902\n",
            "Epoch 55/200\n",
            "32/32 [==============================] - 0s 3ms/step - loss: 0.7645 - mae: 0.5308 - val_loss: 0.9624 - val_mae: 0.5914\n",
            "Epoch 56/200\n",
            "32/32 [==============================] - 0s 3ms/step - loss: 0.6547 - mae: 0.4404 - val_loss: 0.9012 - val_mae: 0.5853\n",
            "Epoch 57/200\n",
            "32/32 [==============================] - 0s 3ms/step - loss: 0.6932 - mae: 0.4716 - val_loss: 0.8872 - val_mae: 0.5791\n",
            "Epoch 58/200\n",
            "32/32 [==============================] - 0s 3ms/step - loss: 0.6796 - mae: 0.4805 - val_loss: 0.8888 - val_mae: 0.5835\n",
            "Epoch 59/200\n",
            "32/32 [==============================] - 0s 3ms/step - loss: 0.6215 - mae: 0.4828 - val_loss: 0.8691 - val_mae: 0.5869\n",
            "Epoch 60/200\n",
            "32/32 [==============================] - 0s 3ms/step - loss: 0.7641 - mae: 0.5164 - val_loss: 0.8818 - val_mae: 0.5788\n",
            "Epoch 61/200\n",
            "32/32 [==============================] - 0s 3ms/step - loss: 0.7006 - mae: 0.5086 - val_loss: 0.8525 - val_mae: 0.5814\n",
            "Epoch 62/200\n",
            "32/32 [==============================] - 0s 3ms/step - loss: 0.5951 - mae: 0.4682 - val_loss: 0.8571 - val_mae: 0.5931\n",
            "Epoch 63/200\n",
            "32/32 [==============================] - 0s 3ms/step - loss: 0.6809 - mae: 0.4875 - val_loss: 0.9045 - val_mae: 0.5997\n",
            "Epoch 64/200\n",
            "32/32 [==============================] - 0s 3ms/step - loss: 0.5951 - mae: 0.4899 - val_loss: 0.8726 - val_mae: 0.5816\n",
            "Epoch 65/200\n",
            "32/32 [==============================] - 0s 3ms/step - loss: 0.6234 - mae: 0.4722 - val_loss: 0.8204 - val_mae: 0.5810\n",
            "Epoch 66/200\n",
            "32/32 [==============================] - 0s 3ms/step - loss: 0.7048 - mae: 0.4888 - val_loss: 0.8841 - val_mae: 0.5917\n",
            "Epoch 67/200\n",
            "32/32 [==============================] - 0s 3ms/step - loss: 0.6403 - mae: 0.4875 - val_loss: 0.9569 - val_mae: 0.6076\n",
            "Epoch 68/200\n",
            "32/32 [==============================] - 0s 3ms/step - loss: 0.7652 - mae: 0.5024 - val_loss: 0.8996 - val_mae: 0.5906\n",
            "Epoch 69/200\n",
            "32/32 [==============================] - 0s 3ms/step - loss: 0.6945 - mae: 0.4856 - val_loss: 0.9065 - val_mae: 0.5915\n",
            "Epoch 70/200\n",
            "32/32 [==============================] - 0s 3ms/step - loss: 0.7331 - mae: 0.5201 - val_loss: 0.8543 - val_mae: 0.5808\n",
            "Epoch 71/200\n",
            "32/32 [==============================] - 0s 3ms/step - loss: 0.6386 - mae: 0.4666 - val_loss: 0.8495 - val_mae: 0.5911\n",
            "Epoch 72/200\n",
            "32/32 [==============================] - 0s 3ms/step - loss: 0.8185 - mae: 0.5263 - val_loss: 0.8677 - val_mae: 0.5824\n",
            "Epoch 73/200\n",
            "32/32 [==============================] - 0s 3ms/step - loss: 0.6409 - mae: 0.4925 - val_loss: 0.8752 - val_mae: 0.5891\n",
            "Epoch 74/200\n",
            "32/32 [==============================] - 0s 3ms/step - loss: 0.7912 - mae: 0.4865 - val_loss: 0.8993 - val_mae: 0.5840\n",
            "Epoch 75/200\n",
            "32/32 [==============================] - 0s 3ms/step - loss: 0.7397 - mae: 0.5044 - val_loss: 0.8966 - val_mae: 0.5889\n",
            "Epoch 76/200\n",
            "32/32 [==============================] - 0s 3ms/step - loss: 0.5375 - mae: 0.4464 - val_loss: 0.9060 - val_mae: 0.6117\n",
            "Epoch 77/200\n",
            "32/32 [==============================] - 0s 3ms/step - loss: 0.5752 - mae: 0.4749 - val_loss: 0.9238 - val_mae: 0.6031\n",
            "Epoch 78/200\n",
            "32/32 [==============================] - 0s 3ms/step - loss: 0.7422 - mae: 0.5147 - val_loss: 0.9011 - val_mae: 0.6022\n",
            "Epoch 79/200\n",
            "32/32 [==============================] - 0s 3ms/step - loss: 0.7177 - mae: 0.5008 - val_loss: 0.9002 - val_mae: 0.6070\n",
            "Epoch 80/200\n",
            "32/32 [==============================] - 0s 3ms/step - loss: 0.6565 - mae: 0.4873 - val_loss: 0.8749 - val_mae: 0.5897\n",
            "Epoch 81/200\n",
            "32/32 [==============================] - 0s 3ms/step - loss: 0.7319 - mae: 0.4829 - val_loss: 0.8558 - val_mae: 0.5882\n",
            "Epoch 82/200\n",
            "32/32 [==============================] - 0s 3ms/step - loss: 0.6241 - mae: 0.4868 - val_loss: 0.8528 - val_mae: 0.5840\n",
            "Epoch 83/200\n",
            "32/32 [==============================] - 0s 3ms/step - loss: 0.8627 - mae: 0.5335 - val_loss: 0.8881 - val_mae: 0.6028\n",
            "Epoch 84/200\n",
            "32/32 [==============================] - 0s 3ms/step - loss: 0.7172 - mae: 0.5081 - val_loss: 0.9327 - val_mae: 0.5969\n",
            "Epoch 85/200\n",
            "32/32 [==============================] - 0s 3ms/step - loss: 0.5549 - mae: 0.4543 - val_loss: 0.9796 - val_mae: 0.6045\n",
            "Epoch 86/200\n",
            "32/32 [==============================] - 0s 3ms/step - loss: 0.6782 - mae: 0.4952 - val_loss: 0.9103 - val_mae: 0.5914\n",
            "Epoch 87/200\n",
            "32/32 [==============================] - 0s 3ms/step - loss: 0.5223 - mae: 0.4296 - val_loss: 0.8885 - val_mae: 0.5944\n",
            "Epoch 88/200\n",
            "32/32 [==============================] - 0s 3ms/step - loss: 0.7514 - mae: 0.4979 - val_loss: 0.9005 - val_mae: 0.5869\n",
            "Epoch 89/200\n",
            "32/32 [==============================] - 0s 3ms/step - loss: 0.7105 - mae: 0.4954 - val_loss: 0.8753 - val_mae: 0.5832\n",
            "Epoch 90/200\n",
            "32/32 [==============================] - 0s 3ms/step - loss: 0.8860 - mae: 0.5418 - val_loss: 0.8418 - val_mae: 0.5715\n",
            "Epoch 91/200\n",
            "32/32 [==============================] - 0s 3ms/step - loss: 0.7468 - mae: 0.4775 - val_loss: 0.8906 - val_mae: 0.5958\n",
            "Epoch 92/200\n",
            "32/32 [==============================] - 0s 3ms/step - loss: 0.7884 - mae: 0.5514 - val_loss: 0.8754 - val_mae: 0.5844\n",
            "Epoch 93/200\n",
            "32/32 [==============================] - 0s 3ms/step - loss: 0.7113 - mae: 0.4961 - val_loss: 0.8885 - val_mae: 0.5837\n",
            "Epoch 94/200\n",
            "32/32 [==============================] - 0s 3ms/step - loss: 0.5764 - mae: 0.4526 - val_loss: 0.8469 - val_mae: 0.5943\n",
            "Epoch 95/200\n",
            "32/32 [==============================] - 0s 3ms/step - loss: 0.6698 - mae: 0.5121 - val_loss: 0.9467 - val_mae: 0.6032\n",
            "Epoch 96/200\n",
            "32/32 [==============================] - 0s 3ms/step - loss: 0.5801 - mae: 0.4538 - val_loss: 0.8929 - val_mae: 0.6042\n",
            "Epoch 97/200\n",
            "32/32 [==============================] - 0s 3ms/step - loss: 0.6320 - mae: 0.4881 - val_loss: 0.9820 - val_mae: 0.6088\n",
            "Epoch 98/200\n",
            "32/32 [==============================] - 0s 3ms/step - loss: 0.7771 - mae: 0.5288 - val_loss: 0.9196 - val_mae: 0.6043\n",
            "Epoch 99/200\n",
            "32/32 [==============================] - 0s 3ms/step - loss: 0.6988 - mae: 0.5031 - val_loss: 0.8749 - val_mae: 0.5964\n",
            "Epoch 100/200\n",
            "32/32 [==============================] - 0s 3ms/step - loss: 0.5669 - mae: 0.4738 - val_loss: 0.8592 - val_mae: 0.5924\n",
            "Epoch 101/200\n",
            "32/32 [==============================] - 0s 3ms/step - loss: 0.7722 - mae: 0.5237 - val_loss: 0.9131 - val_mae: 0.5865\n",
            "Epoch 102/200\n",
            "32/32 [==============================] - 0s 3ms/step - loss: 0.7842 - mae: 0.5272 - val_loss: 0.8820 - val_mae: 0.5832\n",
            "Epoch 103/200\n",
            "32/32 [==============================] - 0s 3ms/step - loss: 0.7722 - mae: 0.4973 - val_loss: 0.8986 - val_mae: 0.5969\n",
            "Epoch 104/200\n",
            "32/32 [==============================] - 0s 3ms/step - loss: 0.5982 - mae: 0.4575 - val_loss: 0.8859 - val_mae: 0.6176\n",
            "Epoch 105/200\n",
            "32/32 [==============================] - 0s 3ms/step - loss: 0.7824 - mae: 0.5214 - val_loss: 0.9063 - val_mae: 0.5962\n",
            "Epoch 106/200\n",
            "32/32 [==============================] - 0s 3ms/step - loss: 0.5509 - mae: 0.4543 - val_loss: 0.8999 - val_mae: 0.5997\n",
            "Epoch 107/200\n",
            "32/32 [==============================] - 0s 3ms/step - loss: 0.7339 - mae: 0.5040 - val_loss: 0.8953 - val_mae: 0.5939\n",
            "Epoch 108/200\n",
            "32/32 [==============================] - 0s 3ms/step - loss: 0.9287 - mae: 0.5445 - val_loss: 0.9139 - val_mae: 0.6004\n",
            "Epoch 109/200\n",
            "32/32 [==============================] - 0s 3ms/step - loss: 0.8077 - mae: 0.5078 - val_loss: 0.8766 - val_mae: 0.5972\n",
            "Epoch 110/200\n",
            "32/32 [==============================] - 0s 3ms/step - loss: 0.6853 - mae: 0.4870 - val_loss: 0.9037 - val_mae: 0.5916\n",
            "Epoch 111/200\n",
            "32/32 [==============================] - 0s 3ms/step - loss: 0.5090 - mae: 0.4286 - val_loss: 0.9244 - val_mae: 0.5906\n",
            "Epoch 112/200\n",
            "32/32 [==============================] - 0s 3ms/step - loss: 0.6531 - mae: 0.4586 - val_loss: 0.8769 - val_mae: 0.5877\n",
            "Epoch 113/200\n",
            "32/32 [==============================] - 0s 3ms/step - loss: 0.6017 - mae: 0.4614 - val_loss: 0.8969 - val_mae: 0.5996\n",
            "Epoch 114/200\n",
            "32/32 [==============================] - 0s 3ms/step - loss: 0.7432 - mae: 0.5147 - val_loss: 0.8469 - val_mae: 0.5828\n",
            "Epoch 115/200\n",
            "32/32 [==============================] - 0s 3ms/step - loss: 0.7089 - mae: 0.5133 - val_loss: 0.9557 - val_mae: 0.6430\n",
            "Epoch 116/200\n",
            "32/32 [==============================] - 0s 3ms/step - loss: 0.5988 - mae: 0.4705 - val_loss: 0.9271 - val_mae: 0.5895\n",
            "Epoch 117/200\n",
            "32/32 [==============================] - 0s 3ms/step - loss: 0.7478 - mae: 0.5005 - val_loss: 0.9931 - val_mae: 0.6178\n",
            "Epoch 118/200\n",
            "32/32 [==============================] - 0s 3ms/step - loss: 0.6488 - mae: 0.4994 - val_loss: 0.9041 - val_mae: 0.5994\n",
            "Epoch 119/200\n",
            "32/32 [==============================] - 0s 3ms/step - loss: 0.7059 - mae: 0.5168 - val_loss: 0.8838 - val_mae: 0.5971\n",
            "Epoch 120/200\n",
            "32/32 [==============================] - 0s 3ms/step - loss: 0.7145 - mae: 0.5066 - val_loss: 0.8804 - val_mae: 0.5993\n",
            "Epoch 121/200\n",
            "32/32 [==============================] - 0s 3ms/step - loss: 0.7942 - mae: 0.5273 - val_loss: 0.8380 - val_mae: 0.5947\n",
            "Epoch 122/200\n",
            "32/32 [==============================] - 0s 3ms/step - loss: 0.6591 - mae: 0.4834 - val_loss: 0.8732 - val_mae: 0.5930\n",
            "Epoch 123/200\n",
            "32/32 [==============================] - 0s 3ms/step - loss: 0.7197 - mae: 0.4748 - val_loss: 0.8673 - val_mae: 0.5934\n",
            "Epoch 124/200\n",
            "32/32 [==============================] - 0s 3ms/step - loss: 0.8085 - mae: 0.5221 - val_loss: 0.9257 - val_mae: 0.5999\n",
            "Epoch 125/200\n",
            "32/32 [==============================] - 0s 3ms/step - loss: 0.7969 - mae: 0.5133 - val_loss: 0.8865 - val_mae: 0.5943\n",
            "Epoch 126/200\n",
            "32/32 [==============================] - 0s 3ms/step - loss: 0.7716 - mae: 0.5088 - val_loss: 0.9233 - val_mae: 0.5954\n",
            "Epoch 127/200\n",
            "32/32 [==============================] - 0s 3ms/step - loss: 0.7161 - mae: 0.4823 - val_loss: 0.8510 - val_mae: 0.6042\n",
            "Epoch 128/200\n",
            "32/32 [==============================] - 0s 4ms/step - loss: 0.5034 - mae: 0.4350 - val_loss: 0.8455 - val_mae: 0.5877\n",
            "Epoch 129/200\n",
            "32/32 [==============================] - 0s 3ms/step - loss: 0.8063 - mae: 0.5311 - val_loss: 0.8976 - val_mae: 0.5964\n",
            "Epoch 130/200\n",
            "32/32 [==============================] - 0s 3ms/step - loss: 0.5392 - mae: 0.4491 - val_loss: 0.8996 - val_mae: 0.6034\n",
            "Epoch 131/200\n",
            "32/32 [==============================] - 0s 3ms/step - loss: 0.5140 - mae: 0.4348 - val_loss: 0.8882 - val_mae: 0.6017\n",
            "Epoch 132/200\n",
            "32/32 [==============================] - 0s 4ms/step - loss: 0.7387 - mae: 0.5065 - val_loss: 0.9130 - val_mae: 0.6028\n",
            "Epoch 133/200\n",
            "32/32 [==============================] - 0s 4ms/step - loss: 0.6309 - mae: 0.4732 - val_loss: 0.9129 - val_mae: 0.6043\n",
            "Epoch 134/200\n",
            "32/32 [==============================] - 0s 3ms/step - loss: 0.5906 - mae: 0.4595 - val_loss: 0.9232 - val_mae: 0.6116\n",
            "Epoch 135/200\n",
            "32/32 [==============================] - 0s 3ms/step - loss: 0.6212 - mae: 0.4678 - val_loss: 0.9373 - val_mae: 0.6117\n",
            "Epoch 136/200\n",
            "32/32 [==============================] - 0s 3ms/step - loss: 0.8185 - mae: 0.5317 - val_loss: 0.9326 - val_mae: 0.6194\n",
            "Epoch 137/200\n",
            "32/32 [==============================] - 0s 3ms/step - loss: 0.6516 - mae: 0.4546 - val_loss: 0.9074 - val_mae: 0.6051\n",
            "Epoch 138/200\n",
            "32/32 [==============================] - 0s 3ms/step - loss: 0.8275 - mae: 0.5309 - val_loss: 0.9511 - val_mae: 0.6089\n",
            "Epoch 139/200\n",
            "32/32 [==============================] - 0s 3ms/step - loss: 0.7768 - mae: 0.5299 - val_loss: 0.8798 - val_mae: 0.6032\n",
            "Epoch 140/200\n",
            "32/32 [==============================] - 0s 3ms/step - loss: 0.6083 - mae: 0.4670 - val_loss: 0.9220 - val_mae: 0.6141\n",
            "Epoch 141/200\n",
            "32/32 [==============================] - 0s 3ms/step - loss: 0.7543 - mae: 0.5064 - val_loss: 0.9486 - val_mae: 0.6117\n",
            "Epoch 142/200\n",
            "32/32 [==============================] - 0s 4ms/step - loss: 0.5307 - mae: 0.4665 - val_loss: 0.9060 - val_mae: 0.6063\n",
            "Epoch 143/200\n",
            "32/32 [==============================] - 0s 3ms/step - loss: 0.6628 - mae: 0.4849 - val_loss: 0.9038 - val_mae: 0.6037\n",
            "Epoch 144/200\n",
            "32/32 [==============================] - 0s 3ms/step - loss: 0.7174 - mae: 0.5059 - val_loss: 0.8925 - val_mae: 0.6056\n",
            "Epoch 145/200\n",
            "32/32 [==============================] - 0s 3ms/step - loss: 0.7942 - mae: 0.5101 - val_loss: 0.9028 - val_mae: 0.6111\n",
            "Epoch 146/200\n",
            "32/32 [==============================] - 0s 3ms/step - loss: 0.6210 - mae: 0.4935 - val_loss: 0.9131 - val_mae: 0.6015\n",
            "Epoch 147/200\n",
            "32/32 [==============================] - 0s 3ms/step - loss: 0.8127 - mae: 0.5168 - val_loss: 0.9436 - val_mae: 0.6107\n",
            "Epoch 148/200\n",
            "32/32 [==============================] - 0s 3ms/step - loss: 0.6500 - mae: 0.4757 - val_loss: 0.9108 - val_mae: 0.6044\n",
            "Epoch 149/200\n",
            "32/32 [==============================] - 0s 3ms/step - loss: 0.5852 - mae: 0.4664 - val_loss: 0.9213 - val_mae: 0.6220\n",
            "Epoch 150/200\n",
            "32/32 [==============================] - 0s 3ms/step - loss: 0.6164 - mae: 0.4830 - val_loss: 0.9603 - val_mae: 0.6135\n",
            "Epoch 151/200\n",
            "32/32 [==============================] - 0s 3ms/step - loss: 0.6699 - mae: 0.5155 - val_loss: 0.9512 - val_mae: 0.6251\n",
            "Epoch 152/200\n",
            "32/32 [==============================] - 0s 3ms/step - loss: 0.6779 - mae: 0.5027 - val_loss: 0.9953 - val_mae: 0.6339\n",
            "Epoch 153/200\n",
            "32/32 [==============================] - 0s 3ms/step - loss: 0.5656 - mae: 0.4776 - val_loss: 0.9552 - val_mae: 0.6112\n",
            "Epoch 154/200\n",
            "32/32 [==============================] - 0s 3ms/step - loss: 0.5851 - mae: 0.4604 - val_loss: 0.9059 - val_mae: 0.6091\n",
            "Epoch 155/200\n",
            "32/32 [==============================] - 0s 3ms/step - loss: 0.5959 - mae: 0.4650 - val_loss: 0.8779 - val_mae: 0.6044\n",
            "Epoch 156/200\n",
            "32/32 [==============================] - 0s 3ms/step - loss: 0.7032 - mae: 0.4897 - val_loss: 0.9334 - val_mae: 0.6425\n",
            "Epoch 157/200\n",
            "32/32 [==============================] - 0s 3ms/step - loss: 0.6268 - mae: 0.4885 - val_loss: 0.9579 - val_mae: 0.6284\n",
            "Epoch 158/200\n",
            "32/32 [==============================] - 0s 3ms/step - loss: 0.8075 - mae: 0.5316 - val_loss: 0.9387 - val_mae: 0.6049\n",
            "Epoch 159/200\n",
            "32/32 [==============================] - 0s 3ms/step - loss: 0.6315 - mae: 0.4841 - val_loss: 0.9022 - val_mae: 0.6098\n",
            "Epoch 160/200\n",
            "32/32 [==============================] - 0s 3ms/step - loss: 0.5995 - mae: 0.4703 - val_loss: 0.9378 - val_mae: 0.6362\n",
            "Epoch 161/200\n",
            "32/32 [==============================] - 0s 3ms/step - loss: 0.6592 - mae: 0.4908 - val_loss: 0.8829 - val_mae: 0.6050\n",
            "Epoch 162/200\n",
            "32/32 [==============================] - 0s 3ms/step - loss: 0.6050 - mae: 0.4824 - val_loss: 0.9092 - val_mae: 0.6213\n",
            "Epoch 163/200\n",
            "32/32 [==============================] - 0s 3ms/step - loss: 0.5196 - mae: 0.4526 - val_loss: 0.9678 - val_mae: 0.6529\n",
            "Epoch 164/200\n",
            "32/32 [==============================] - 0s 3ms/step - loss: 0.5932 - mae: 0.4798 - val_loss: 0.9320 - val_mae: 0.6074\n",
            "Epoch 165/200\n",
            "32/32 [==============================] - 0s 4ms/step - loss: 0.6814 - mae: 0.4909 - val_loss: 0.9624 - val_mae: 0.6223\n",
            "Epoch 166/200\n",
            "32/32 [==============================] - 0s 3ms/step - loss: 0.6663 - mae: 0.5025 - val_loss: 0.9032 - val_mae: 0.6153\n",
            "Epoch 167/200\n",
            "32/32 [==============================] - 0s 4ms/step - loss: 0.6352 - mae: 0.4766 - val_loss: 0.9459 - val_mae: 0.6258\n",
            "Epoch 168/200\n",
            "32/32 [==============================] - 0s 3ms/step - loss: 0.7087 - mae: 0.5033 - val_loss: 0.9250 - val_mae: 0.6118\n",
            "Epoch 169/200\n",
            "32/32 [==============================] - 0s 3ms/step - loss: 0.6867 - mae: 0.4941 - val_loss: 0.9373 - val_mae: 0.6127\n",
            "Epoch 170/200\n",
            "32/32 [==============================] - 0s 3ms/step - loss: 0.6085 - mae: 0.4592 - val_loss: 0.9281 - val_mae: 0.6144\n",
            "Epoch 171/200\n",
            "32/32 [==============================] - 0s 3ms/step - loss: 0.7201 - mae: 0.4981 - val_loss: 0.9361 - val_mae: 0.6129\n",
            "Epoch 172/200\n",
            "32/32 [==============================] - 0s 3ms/step - loss: 0.8108 - mae: 0.5233 - val_loss: 0.9427 - val_mae: 0.6180\n",
            "Epoch 173/200\n",
            "32/32 [==============================] - 0s 3ms/step - loss: 0.6991 - mae: 0.5028 - val_loss: 0.9131 - val_mae: 0.6064\n",
            "Epoch 174/200\n",
            "32/32 [==============================] - 0s 3ms/step - loss: 0.7067 - mae: 0.4924 - val_loss: 0.9447 - val_mae: 0.6102\n",
            "Epoch 175/200\n",
            "32/32 [==============================] - 0s 3ms/step - loss: 0.6920 - mae: 0.4876 - val_loss: 0.9200 - val_mae: 0.6074\n",
            "Epoch 176/200\n",
            "32/32 [==============================] - 0s 3ms/step - loss: 0.6365 - mae: 0.4634 - val_loss: 0.9866 - val_mae: 0.6355\n",
            "Epoch 177/200\n",
            "32/32 [==============================] - 0s 3ms/step - loss: 0.6124 - mae: 0.4539 - val_loss: 0.9597 - val_mae: 0.6122\n",
            "Epoch 178/200\n",
            "32/32 [==============================] - 0s 3ms/step - loss: 0.7938 - mae: 0.5060 - val_loss: 0.9509 - val_mae: 0.6301\n",
            "Epoch 179/200\n",
            "32/32 [==============================] - 0s 3ms/step - loss: 0.6574 - mae: 0.4903 - val_loss: 0.9420 - val_mae: 0.6216\n",
            "Epoch 180/200\n",
            "32/32 [==============================] - 0s 3ms/step - loss: 0.7301 - mae: 0.4864 - val_loss: 0.9412 - val_mae: 0.6223\n",
            "Epoch 181/200\n",
            "32/32 [==============================] - 0s 3ms/step - loss: 0.5408 - mae: 0.4380 - val_loss: 0.8955 - val_mae: 0.6100\n",
            "Epoch 182/200\n",
            "32/32 [==============================] - 0s 3ms/step - loss: 0.5788 - mae: 0.4677 - val_loss: 0.8917 - val_mae: 0.6014\n",
            "Epoch 183/200\n",
            "32/32 [==============================] - 0s 3ms/step - loss: 0.7561 - mae: 0.5144 - val_loss: 0.9012 - val_mae: 0.6034\n",
            "Epoch 184/200\n",
            "32/32 [==============================] - 0s 3ms/step - loss: 0.6610 - mae: 0.5004 - val_loss: 0.9213 - val_mae: 0.6108\n",
            "Epoch 185/200\n",
            "32/32 [==============================] - 0s 3ms/step - loss: 0.6627 - mae: 0.4737 - val_loss: 0.9592 - val_mae: 0.6301\n",
            "Epoch 186/200\n",
            "32/32 [==============================] - 0s 3ms/step - loss: 0.6650 - mae: 0.4709 - val_loss: 0.9315 - val_mae: 0.6170\n",
            "Epoch 187/200\n",
            "32/32 [==============================] - 0s 3ms/step - loss: 0.6333 - mae: 0.4673 - val_loss: 0.9111 - val_mae: 0.6095\n",
            "Epoch 188/200\n",
            "32/32 [==============================] - 0s 3ms/step - loss: 0.7281 - mae: 0.5128 - val_loss: 0.9023 - val_mae: 0.6008\n",
            "Epoch 189/200\n",
            "32/32 [==============================] - 0s 3ms/step - loss: 0.5595 - mae: 0.4345 - val_loss: 0.9049 - val_mae: 0.6086\n",
            "Epoch 190/200\n",
            "32/32 [==============================] - 0s 3ms/step - loss: 0.6435 - mae: 0.4905 - val_loss: 0.9512 - val_mae: 0.6146\n",
            "Epoch 191/200\n",
            "32/32 [==============================] - 0s 3ms/step - loss: 0.6148 - mae: 0.4674 - val_loss: 0.8964 - val_mae: 0.6078\n",
            "Epoch 192/200\n",
            "32/32 [==============================] - 0s 3ms/step - loss: 0.8833 - mae: 0.5495 - val_loss: 0.9375 - val_mae: 0.6157\n",
            "Epoch 193/200\n",
            "32/32 [==============================] - 0s 3ms/step - loss: 0.7463 - mae: 0.4993 - val_loss: 0.9231 - val_mae: 0.6073\n",
            "Epoch 194/200\n",
            "32/32 [==============================] - 0s 3ms/step - loss: 0.6635 - mae: 0.4761 - val_loss: 0.9287 - val_mae: 0.6190\n",
            "Epoch 195/200\n",
            "32/32 [==============================] - 0s 3ms/step - loss: 0.6007 - mae: 0.4568 - val_loss: 0.9622 - val_mae: 0.6161\n",
            "Epoch 196/200\n",
            "32/32 [==============================] - 0s 3ms/step - loss: 0.5908 - mae: 0.4558 - val_loss: 0.9377 - val_mae: 0.6166\n",
            "Epoch 197/200\n",
            "32/32 [==============================] - 0s 3ms/step - loss: 0.7246 - mae: 0.5069 - val_loss: 0.9203 - val_mae: 0.6160\n",
            "Epoch 198/200\n",
            "32/32 [==============================] - 0s 3ms/step - loss: 0.6140 - mae: 0.4726 - val_loss: 0.8987 - val_mae: 0.6098\n",
            "Epoch 199/200\n",
            "32/32 [==============================] - 0s 3ms/step - loss: 0.7163 - mae: 0.4905 - val_loss: 0.9332 - val_mae: 0.6158\n",
            "Epoch 200/200\n",
            "32/32 [==============================] - 0s 3ms/step - loss: 0.5825 - mae: 0.4660 - val_loss: 0.9006 - val_mae: 0.6086\n"
          ],
          "name": "stdout"
        }
      ]
    },
    {
      "cell_type": "code",
      "metadata": {
        "colab": {
          "base_uri": "https://localhost:8080/"
        },
        "id": "VkU9yWLnqRYc",
        "outputId": "1c5ad699-0553-4baa-9c55-7fc27e3ddabe"
      },
      "source": [
        "history.history.keys()"
      ],
      "execution_count": 26,
      "outputs": [
        {
          "output_type": "execute_result",
          "data": {
            "text/plain": [
              "dict_keys(['loss', 'mae', 'val_loss', 'val_mae'])"
            ]
          },
          "metadata": {
            "tags": []
          },
          "execution_count": 26
        }
      ]
    },
    {
      "cell_type": "code",
      "metadata": {
        "colab": {
          "base_uri": "https://localhost:8080/"
        },
        "id": "518p8SrTqTtn",
        "outputId": "731634de-4b91-403e-8f0b-3e52419eb411"
      },
      "source": [
        "loss,mae=network.evaluate(X_test,Y_test)"
      ],
      "execution_count": 27,
      "outputs": [
        {
          "output_type": "stream",
          "text": [
            "10/10 [==============================] - 0s 1ms/step - loss: 0.9052 - mae: 0.5765\n"
          ],
          "name": "stdout"
        }
      ]
    },
    {
      "cell_type": "code",
      "metadata": {
        "id": "T-ijSeD0qWRo"
      },
      "source": [
        "val_mae = history.history['val_mae']\n",
        "val_loss = history.history['val_loss']"
      ],
      "execution_count": 28,
      "outputs": []
    },
    {
      "cell_type": "code",
      "metadata": {
        "colab": {
          "base_uri": "https://localhost:8080/",
          "height": 295
        },
        "id": "nOwPF2vKqaAq",
        "outputId": "2f1a5379-006b-4115-9b1b-f8d7399dab53"
      },
      "source": [
        "import matplotlib.pyplot as plt \n",
        "history_dict = history.history\n",
        "loss_values = history_dict['loss']\n",
        "val_loss_values = history_dict['val_loss']\n",
        "epochs = range(200)\n",
        "plt.plot(epochs, loss_values, 'bo', label='Training loss')\n",
        "plt.plot(epochs, val_loss_values, 'b', label='Validation loss')\n",
        "plt.title('Training and validation loss')\n",
        "plt.xlabel('Epochs')\n",
        "plt.ylabel('Loss')\n",
        "plt.legend()\n",
        "plt.show()"
      ],
      "execution_count": 49,
      "outputs": [
        {
          "output_type": "display_data",
          "data": {
            "image/png": "[encoded data removed]",
            "text/plain": [
              "<Figure size 432x288 with 1 Axes>"
            ]
          },
          "metadata": {
            "tags": [],
            "needs_background": "light"
          }
        }
      ]
    },
    {
      "cell_type": "code",
      "metadata": {
        "colab": {
          "base_uri": "https://localhost:8080/",
          "height": 295
        },
        "id": "LelWva29qei1",
        "outputId": "4ce6e3b7-366a-4f92-a18f-c6f321ef1e91"
      },
      "source": [
        "import matplotlib.pyplot as plt \n",
        "acc_values = history_dict['mae']\n",
        "val_acc_values = history_dict['val_mae']\n",
        "plt.plot(epochs, acc_values, 'bo', label='Training mae')\n",
        "plt.plot(epochs, val_acc_values, 'b', label='Validation mae')\n",
        "plt.title('Training and validation accuracy')\n",
        "plt.xlabel('Epochs')\n",
        "plt.ylabel('mae')\n",
        "plt.legend()\n",
        "plt.show()"
      ],
      "execution_count": 50,
      "outputs": [
        {
          "output_type": "display_data",
          "data": {
            "image/png": "[encoded data removed]",
            "text/plain": [
              "<Figure size 432x288 with 1 Axes>"
            ]
          },
          "metadata": {
            "tags": [],
            "needs_background": "light"
          }
        }
      ]
    },
    {
      "cell_type": "code",
      "metadata": {
        "id": "FNMkqHkmqyZz"
      },
      "source": [
        "y_pred = network.predict(X_test)"
      ],
      "execution_count": 51,
      "outputs": []
    },
    {
      "cell_type": "code",
      "metadata": {
        "id": "o4ovQV8Kq11Y"
      },
      "source": [
        "def denorm(x):\n",
        "    return (x * Y_std) + Y_mean"
      ],
      "execution_count": 52,
      "outputs": []
    },
    {
      "cell_type": "code",
      "metadata": {
        "id": "uCEa07dqq50y"
      },
      "source": [
        "y_pred = denorm(y_pred)"
      ],
      "execution_count": 54,
      "outputs": []
    },
    {
      "cell_type": "code",
      "metadata": {
        "id": "ssNfeaIhr0EF"
      },
      "source": [
        "y_true = denorm(Y_test)"
      ],
      "execution_count": 55,
      "outputs": []
    },
    {
      "cell_type": "code",
      "metadata": {
        "id": "brJ2jn_0q6rw"
      },
      "source": [
        "y_pred = y_pred.flatten()"
      ],
      "execution_count": 56,
      "outputs": []
    },
    {
      "cell_type": "code",
      "metadata": {
        "colab": {
          "base_uri": "https://localhost:8080/"
        },
        "id": "SES_anoDrDYn",
        "outputId": "6a8b3f92-a8b9-480d-b784-bbaa662c6ec4"
      },
      "source": [
        "#Shape\n",
        "y_pred.shape"
      ],
      "execution_count": 57,
      "outputs": [
        {
          "output_type": "execute_result",
          "data": {
            "text/plain": [
              "(309,)"
            ]
          },
          "metadata": {
            "tags": []
          },
          "execution_count": 57
        }
      ]
    },
    {
      "cell_type": "code",
      "metadata": {
        "colab": {
          "base_uri": "https://localhost:8080/"
        },
        "id": "WrdnXBzZrG7W",
        "outputId": "d13a7e4f-618b-4c36-b7c1-1fa08a6c53a8"
      },
      "source": [
        "y_true.shape"
      ],
      "execution_count": 47,
      "outputs": [
        {
          "output_type": "execute_result",
          "data": {
            "text/plain": [
              "(309,)"
            ]
          },
          "metadata": {
            "tags": []
          },
          "execution_count": 47
        }
      ]
    },
    {
      "cell_type": "code",
      "metadata": {
        "colab": {
          "base_uri": "https://localhost:8080/",
          "height": 286
        },
        "id": "TnnQsnI-rPWp",
        "outputId": "57bb0a3f-0faf-4d9a-b097-407a000a23a0"
      },
      "source": [
        "import numpy as np\n",
        "import matplotlib.pyplot as plt\n",
        "coef = np.polyfit(y_true,y_pred,1)\n",
        "poly1d_fn = np.poly1d(coef) \n",
        "# poly1d_fn is now a function which takes in x and returns an estimate for y\n",
        "plt.plot(y_true,y_pred, 'yo', y_true, poly1d_fn(y_true), '--k')\n",
        "plt.xlim(0, 100)\n",
        "plt.ylim(0, 100)"
      ],
      "execution_count": 58,
      "outputs": [
        {
          "output_type": "execute_result",
          "data": {
            "text/plain": [
              "(0.0, 100.0)"
            ]
          },
          "metadata": {
            "tags": []
          },
          "execution_count": 58
        },
        {
          "output_type": "display_data",
          "data": {
            "image/png": "[encoded data removed]",
            "text/plain": [
              "<Figure size 432x288 with 1 Axes>"
            ]
          },
          "metadata": {
            "tags": [],
            "needs_background": "light"
          }
        }
      ]
    },
    {
      "cell_type": "code",
      "metadata": {
        "id": "0Wz3ClkhroBe"
      },
      "source": [
        ""
      ],
      "execution_count": null,
      "outputs": []
    }
  ]
}